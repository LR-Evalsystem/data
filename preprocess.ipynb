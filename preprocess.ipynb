{
 "cells": [
  {
   "attachments": {},
   "cell_type": "markdown",
   "metadata": {},
   "source": [
    "### Data Preprocessing"
   ]
  },
  {
   "cell_type": "code",
   "execution_count": 1,
   "metadata": {},
   "outputs": [],
   "source": [
    "import pandas as pd\n",
    "import numpy as np"
   ]
  },
  {
   "attachments": {},
   "cell_type": "markdown",
   "metadata": {},
   "source": [
    "##### Load data"
   ]
  },
  {
   "attachments": {},
   "cell_type": "markdown",
   "metadata": {},
   "source": [
    "Download from \n",
    "- Hate crimes: https://data.cityofnewyork.us/Public-Safety/NYPD-Hate-Crimes/bqiq-cu78\n",
    "- DOE high school: https://data.cityofnewyork.us/Education/2019-DOE-High-School-Directory/uq7m-95z8"
   ]
  },
  {
   "cell_type": "code",
   "execution_count": 2,
   "metadata": {},
   "outputs": [],
   "source": [
    "hate_crime_df = pd.read_csv('hatecrimes.csv')\n",
    "school_df = pd.read_csv('doe_high_school.csv')\n",
    "population_df = pd.read_csv('population.csv')"
   ]
  },
  {
   "cell_type": "code",
   "execution_count": 3,
   "metadata": {},
   "outputs": [],
   "source": [
    "boroughs_mapping = {\n",
    "    \"PATROL BORO MAN SOUTH\": \"MANHATTAN\",\n",
    "    \"PATROL BORO MAN NORTH\": \"MANHATTAN\",\n",
    "    \"PATROL BORO BKLYN SOUTH\": \"BROOKLYN\",\n",
    "    \"PATROL BORO BKLYN NORTH\": \"BROOKLYN\",\n",
    "    \"PATROL BORO QUEENS SOUTH\": \"QUEENS\",\n",
    "    \"PATROL BORO QUEENS NORTH\": \"QUEENS\",\n",
    "    \"PATROL BORO BRONX\": \"BRONX\",\n",
    "    \"PATROL BORO STATEN ISLAND\": \"STATEN IS\",    \n",
    "}\n",
    "\n",
    "boroughs_mapping2 = {\n",
    "    \"MANHATTAN\": 1,\n",
    "    \"BROOKLYN\": 3,\n",
    "    \"QUEENS\": 4,\n",
    "    \"BRONX\": 2,\n",
    "    \"STATEN IS\": 5,\n",
    "}"
   ]
  },
  {
   "attachments": {},
   "cell_type": "markdown",
   "metadata": {},
   "source": [
    "##### Hate Crimes"
   ]
  },
  {
   "cell_type": "code",
   "execution_count": 4,
   "metadata": {},
   "outputs": [],
   "source": [
    "hate_crime_df['borough'] = hate_crime_df['Patrol Borough Name'].apply(lambda x: boroughs_mapping2[boroughs_mapping[x]]).astype(int)\n",
    "hate_crime_df['full_complaint_id'] = hate_crime_df['Full Complaint ID']\n",
    "summary_hate_crime_df = hate_crime_df[['borough', 'full_complaint_id']].groupby(['borough'], as_index=False).count().rename(columns={'full_complaint_id': 'hate_count'})\n",
    "summary_hate_crime_df.to_csv('summary_hate_crime.csv', index=False)"
   ]
  },
  {
   "attachments": {},
   "cell_type": "markdown",
   "metadata": {},
   "source": [
    "##### DOE High School"
   ]
  },
  {
   "cell_type": "code",
   "execution_count": 5,
   "metadata": {},
   "outputs": [],
   "source": [
    "zip_code_name = 'ZIP CODE'"
   ]
  },
  {
   "cell_type": "code",
   "execution_count": 6,
   "metadata": {},
   "outputs": [],
   "source": [
    "school_df['borough'] = school_df['Borough'].apply(lambda x: boroughs_mapping2[x.strip()])\n",
    "summary_school_df = school_df[['neighborhood', 'zip']].groupby('zip', as_index=False).count().rename(\n",
    "    columns={\n",
    "        'neighborhood': 'number_of_schools',\n",
    "        'zip': zip_code_name\n",
    "    }\n",
    ")\n",
    "summary_school_df.to_csv('summary_school.csv', index=False)"
   ]
  },
  {
   "attachments": {},
   "cell_type": "markdown",
   "metadata": {},
   "source": [
    "##### Population"
   ]
  },
  {
   "cell_type": "code",
   "execution_count": 7,
   "metadata": {},
   "outputs": [],
   "source": [
    "population_df.rename(columns={'MODZCTA': zip_code_name}, inplace=True)\n",
    "summary_pop_df =  population_df[[zip_code_name, 'pop_est']]\n",
    "summary_pop_df.to_csv('summary_population.csv', index=False)"
   ]
  },
  {
   "attachments": {},
   "cell_type": "markdown",
   "metadata": {},
   "source": [
    "#### Housing Price"
   ]
  },
  {
   "cell_type": "code",
   "execution_count": 8,
   "metadata": {},
   "outputs": [],
   "source": [
    "housing_df = pd.read_csv('houseprice.csv')"
   ]
  },
  {
   "cell_type": "code",
   "execution_count": 9,
   "metadata": {},
   "outputs": [
    {
     "data": {
      "text/html": [
       "<div>\n",
       "<style scoped>\n",
       "    .dataframe tbody tr th:only-of-type {\n",
       "        vertical-align: middle;\n",
       "    }\n",
       "\n",
       "    .dataframe tbody tr th {\n",
       "        vertical-align: top;\n",
       "    }\n",
       "\n",
       "    .dataframe thead th {\n",
       "        text-align: right;\n",
       "    }\n",
       "</style>\n",
       "<table border=\"1\" class=\"dataframe\">\n",
       "  <thead>\n",
       "    <tr style=\"text-align: right;\">\n",
       "      <th></th>\n",
       "      <th>ZIP CODE</th>\n",
       "      <th>BOROUGH</th>\n",
       "      <th>SALE PRICE</th>\n",
       "      <th>log_saleprice</th>\n",
       "    </tr>\n",
       "  </thead>\n",
       "  <tbody>\n",
       "    <tr>\n",
       "      <th>0</th>\n",
       "      <td>10001</td>\n",
       "      <td>1</td>\n",
       "      <td>8.861737e+06</td>\n",
       "      <td>14.083968</td>\n",
       "    </tr>\n",
       "    <tr>\n",
       "      <th>1</th>\n",
       "      <td>10002</td>\n",
       "      <td>1</td>\n",
       "      <td>3.511681e+06</td>\n",
       "      <td>13.790782</td>\n",
       "    </tr>\n",
       "    <tr>\n",
       "      <th>2</th>\n",
       "      <td>10003</td>\n",
       "      <td>1</td>\n",
       "      <td>2.655826e+06</td>\n",
       "      <td>14.053691</td>\n",
       "    </tr>\n",
       "    <tr>\n",
       "      <th>3</th>\n",
       "      <td>10004</td>\n",
       "      <td>1</td>\n",
       "      <td>2.222425e+06</td>\n",
       "      <td>14.032427</td>\n",
       "    </tr>\n",
       "    <tr>\n",
       "      <th>4</th>\n",
       "      <td>10005</td>\n",
       "      <td>1</td>\n",
       "      <td>1.049661e+07</td>\n",
       "      <td>14.015219</td>\n",
       "    </tr>\n",
       "    <tr>\n",
       "      <th>...</th>\n",
       "      <td>...</td>\n",
       "      <td>...</td>\n",
       "      <td>...</td>\n",
       "      <td>...</td>\n",
       "    </tr>\n",
       "    <tr>\n",
       "      <th>179</th>\n",
       "      <td>11436</td>\n",
       "      <td>4</td>\n",
       "      <td>3.484724e+05</td>\n",
       "      <td>12.219551</td>\n",
       "    </tr>\n",
       "    <tr>\n",
       "      <th>180</th>\n",
       "      <td>11691</td>\n",
       "      <td>4</td>\n",
       "      <td>5.085674e+05</td>\n",
       "      <td>12.442040</td>\n",
       "    </tr>\n",
       "    <tr>\n",
       "      <th>181</th>\n",
       "      <td>11692</td>\n",
       "      <td>4</td>\n",
       "      <td>5.074007e+05</td>\n",
       "      <td>12.856616</td>\n",
       "    </tr>\n",
       "    <tr>\n",
       "      <th>182</th>\n",
       "      <td>11693</td>\n",
       "      <td>4</td>\n",
       "      <td>3.696392e+05</td>\n",
       "      <td>12.030059</td>\n",
       "    </tr>\n",
       "    <tr>\n",
       "      <th>183</th>\n",
       "      <td>11694</td>\n",
       "      <td>4</td>\n",
       "      <td>6.036088e+05</td>\n",
       "      <td>12.872232</td>\n",
       "    </tr>\n",
       "  </tbody>\n",
       "</table>\n",
       "<p>184 rows × 4 columns</p>\n",
       "</div>"
      ],
      "text/plain": [
       "     ZIP CODE  BOROUGH    SALE PRICE  log_saleprice\n",
       "0       10001        1  8.861737e+06      14.083968\n",
       "1       10002        1  3.511681e+06      13.790782\n",
       "2       10003        1  2.655826e+06      14.053691\n",
       "3       10004        1  2.222425e+06      14.032427\n",
       "4       10005        1  1.049661e+07      14.015219\n",
       "..        ...      ...           ...            ...\n",
       "179     11436        4  3.484724e+05      12.219551\n",
       "180     11691        4  5.085674e+05      12.442040\n",
       "181     11692        4  5.074007e+05      12.856616\n",
       "182     11693        4  3.696392e+05      12.030059\n",
       "183     11694        4  6.036088e+05      12.872232\n",
       "\n",
       "[184 rows x 4 columns]"
      ]
     },
     "execution_count": 9,
     "metadata": {},
     "output_type": "execute_result"
    }
   ],
   "source": [
    "col_name = ['ZIP CODE', 'BOROUGH', 'SALE PRICE']\n",
    "housing_df2 = housing_df[col_name].copy()\n",
    "mark = housing_df2['ZIP CODE'] > 10000\n",
    "housing_df2 = housing_df2[mark]\n",
    "housing_df2['log_saleprice'] = np.log(housing_df2['SALE PRICE'])\n",
    "housing_df2.groupby(['ZIP CODE', 'BOROUGH'], as_index=False).mean()"
   ]
  },
  {
   "attachments": {},
   "cell_type": "markdown",
   "metadata": {},
   "source": [
    "##### Aggregate"
   ]
  },
  {
   "cell_type": "code",
   "execution_count": 10,
   "metadata": {},
   "outputs": [],
   "source": [
    "all_df = housing_df2.join(summary_pop_df.set_index('ZIP CODE'), on='ZIP CODE') \\\n",
    "    .join(summary_school_df.set_index('ZIP CODE'), on='ZIP CODE') \\\n",
    "    .join(summary_hate_crime_df.set_index('borough'), on='BOROUGH')"
   ]
  },
  {
   "cell_type": "code",
   "execution_count": 11,
   "metadata": {},
   "outputs": [],
   "source": [
    "all_df['borough_name'] = all_df['BOROUGH'].apply(lambda x: list(boroughs_mapping2.keys())[list(boroughs_mapping2.values()).index(x)])"
   ]
  },
  {
   "attachments": {},
   "cell_type": "markdown",
   "metadata": {},
   "source": [
    "#### Data Cleaning"
   ]
  },
  {
   "cell_type": "code",
   "execution_count": 12,
   "metadata": {},
   "outputs": [],
   "source": [
    "all_df['log_pop'] = np.log(all_df['pop_est'])\n",
    "mark = all_df['number_of_schools'].isnull()\n",
    "all_df.loc[mark, 'number_of_schools'] = 0"
   ]
  },
  {
   "attachments": {},
   "cell_type": "markdown",
   "metadata": {},
   "source": [
    "##### Normalize"
   ]
  },
  {
   "cell_type": "code",
   "execution_count": 13,
   "metadata": {},
   "outputs": [
    {
     "data": {
      "text/plain": [
       "array([[-0.22149592,  0.97985981,  1.69414448, -1.49978415],\n",
       "       [-0.06990026,  0.97985981,  1.69414448, -1.49978415],\n",
       "       [ 0.05812157,  0.97985981,  1.69414448, -1.49978415],\n",
       "       ...,\n",
       "       [ 0.31157278, -0.66122954, -0.90857579, -1.81400529],\n",
       "       [ 0.03704054, -0.66122954, -0.90857579, -1.81400529],\n",
       "       [-5.65385565, -0.66122954, -0.90857579, -1.81400529]])"
      ]
     },
     "execution_count": 13,
     "metadata": {},
     "output_type": "execute_result"
    }
   ],
   "source": [
    "features = ['log_saleprice', 'log_pop', 'number_of_schools', 'hate_count']\n",
    "x = all_df[features].values\n",
    "x_mean = np.nanmean(x, axis=0)\n",
    "x_std = np.nanstd(x, axis=0)\n",
    "x = (x - x_mean) / x_std\n",
    "x"
   ]
  },
  {
   "cell_type": "code",
   "execution_count": 14,
   "metadata": {},
   "outputs": [],
   "source": [
    "for feature in features:\n",
    "    all_df[\"norm_\" + feature] = x[:, features.index(feature)]"
   ]
  },
  {
   "cell_type": "code",
   "execution_count": 15,
   "metadata": {},
   "outputs": [],
   "source": [
    "all_df.to_csv('all.csv', index=False)"
   ]
  },
  {
   "cell_type": "code",
   "execution_count": null,
   "metadata": {},
   "outputs": [],
   "source": []
  }
 ],
 "metadata": {
  "kernelspec": {
   "display_name": "si649",
   "language": "python",
   "name": "python3"
  },
  "language_info": {
   "codemirror_mode": {
    "name": "ipython",
    "version": 3
   },
   "file_extension": ".py",
   "mimetype": "text/x-python",
   "name": "python",
   "nbconvert_exporter": "python",
   "pygments_lexer": "ipython3",
   "version": "3.8.15"
  },
  "orig_nbformat": 4
 },
 "nbformat": 4,
 "nbformat_minor": 2
}
