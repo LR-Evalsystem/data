{
 "cells": [
  {
   "attachments": {},
   "cell_type": "markdown",
   "metadata": {},
   "source": [
    "### Data Preprocessing"
   ]
  },
  {
   "cell_type": "code",
   "execution_count": 1,
   "metadata": {},
   "outputs": [],
   "source": [
    "import pandas as pd"
   ]
  },
  {
   "attachments": {},
   "cell_type": "markdown",
   "metadata": {},
   "source": [
    "##### Load data"
   ]
  },
  {
   "attachments": {},
   "cell_type": "markdown",
   "metadata": {},
   "source": [
    "Download from \n",
    "- Hate crimes: https://data.cityofnewyork.us/Public-Safety/NYPD-Hate-Crimes/bqiq-cu78\n",
    "- DOE high school: https://data.cityofnewyork.us/Education/2019-DOE-High-School-Directory/uq7m-95z8"
   ]
  },
  {
   "cell_type": "code",
   "execution_count": 2,
   "metadata": {},
   "outputs": [],
   "source": [
    "hate_crime_df = pd.read_csv('hatecrimes.csv')\n",
    "school_df = pd.read_csv('doe_high_school.csv')"
   ]
  },
  {
   "cell_type": "code",
   "execution_count": 3,
   "metadata": {},
   "outputs": [],
   "source": [
    "boroughs_mapping = {\n",
    "    \"PATROL BORO MAN SOUTH\": \"MANHATTAN\",\n",
    "    \"PATROL BORO MAN NORTH\": \"MANHATTAN\",\n",
    "    \"PATROL BORO BKLYN SOUTH\": \"BROOKLYN\",\n",
    "    \"PATROL BORO BKLYN NORTH\": \"BROOKLYN\",\n",
    "    \"PATROL BORO QUEENS SOUTH\": \"QUEENS\",\n",
    "    \"PATROL BORO QUEENS NORTH\": \"QUEENS\",\n",
    "    \"PATROL BORO BRONX\": \"BRONX\",\n",
    "    \"PATROL BORO STATEN ISLAND\": \"STATEN IS\",    \n",
    "}\n",
    "\n",
    "boroughs_mapping2 = {\n",
    "    \"MANHATTAN\": 1,\n",
    "    \"BROOKLYN\": 3,\n",
    "    \"QUEENS\": 4,\n",
    "    \"BRONX\": 2,\n",
    "    \"STATEN IS\": 5,\n",
    "}"
   ]
  },
  {
   "attachments": {},
   "cell_type": "markdown",
   "metadata": {},
   "source": [
    "##### Hate Crimes"
   ]
  },
  {
   "cell_type": "code",
   "execution_count": 4,
   "metadata": {},
   "outputs": [],
   "source": [
    "hate_crime_df['borough'] = hate_crime_df['Patrol Borough Name'].apply(lambda x: boroughs_mapping2[boroughs_mapping[x]]).astype(int)\n",
    "hate_crime_df['full_complaint_id'] = hate_crime_df['Full Complaint ID']\n",
    "summary_hate_crime_df = hate_crime_df[['borough', 'full_complaint_id']].groupby(['borough'], as_index=False).count().rename(columns={'full_complaint_id': 'count'})\n",
    "summary_hate_crime_df.to_csv('summary_hate_crime.csv', index=False)"
   ]
  },
  {
   "attachments": {},
   "cell_type": "markdown",
   "metadata": {},
   "source": [
    "##### DOE High School"
   ]
  },
  {
   "cell_type": "code",
   "execution_count": 5,
   "metadata": {},
   "outputs": [],
   "source": [
    "school_df['borough'] = school_df['Borough'].apply(lambda x: boroughs_mapping2[x.strip()])\n",
    "summary_school_df = school_df[['neighborhood', 'zip']].groupby('zip', as_index=False).count().rename(columns={'neighborhood': 'number_of_schools'})\n",
    "summary_school_df.to_csv('summary_school.csv', index=False)"
   ]
  }
 ],
 "metadata": {
  "kernelspec": {
   "display_name": "si649",
   "language": "python",
   "name": "python3"
  },
  "language_info": {
   "codemirror_mode": {
    "name": "ipython",
    "version": 3
   },
   "file_extension": ".py",
   "mimetype": "text/x-python",
   "name": "python",
   "nbconvert_exporter": "python",
   "pygments_lexer": "ipython3",
   "version": "3.8.15"
  },
  "orig_nbformat": 4
 },
 "nbformat": 4,
 "nbformat_minor": 2
}
